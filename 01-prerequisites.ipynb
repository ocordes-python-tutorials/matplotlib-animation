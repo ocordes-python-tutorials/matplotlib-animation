{
 "cells": [
  {
   "cell_type": "markdown",
   "metadata": {},
   "source": [
    "# Matplotlib animations - Part I"
   ]
  },
  {
   "cell_type": "markdown",
   "metadata": {},
   "source": [
    "## 1. Motivations"
   ]
  },
  {
   "cell_type": "markdown",
   "metadata": {},
   "source": [
    "There was an open question which came up to my mind every time I've looked up functions, methods, and tricks to make nice plots with the Python-matplotlib library, how to display complex data sets?\n",
    "\n",
    "Usually you can create a simple plot, displaying a mathematical function or a dataset which has $x$ and $y$ values. You can also plot statistics with bars, histograms, charts etc. These are the common plots for 2d data sets. But I was often faced with more dimensional data sets, which you can reduce to 2d data slices and then plot. One example is from radio astronomy in which you have 2d grid of positions and in the third dimension a spectrum. Such datacubes are normal and usually you can pick up some important position and plot individually the spectrum and e.g. compare the spectrum with another point of the sky. So far so good, but you will never be able to plot the data cube in one plot in which you can see all information at once. Of course also in matplotlib there are possibilities to plot 3d cubes but not all data sets allow a good view on all information. \n",
    "\n",
    "The other aspect is that you often have datasets in physics and astronomy which have additional time information. This means that you can have for a given time a dataset which you need to plot. In general that is the same problem as the problems above, you can create a plot, e.g. a spectrum of a star for a special observing date. You can then plot another spectrum for a another date etc. I know several publications in which you have one plot near the next plot to show the time evolution of a spectrum. On printed media this may be OK, but sometimes it is confusing for readers. However, you can extract some informations from the spectrum and plot these against time just to focus on the the important informations but at least for me this is sometimes not satisfying at all. \n",
    "\n",
    "Creating animations for time depended datasets is a nice possibility to generate a nice visualization of the data. Of course this is then only possible on digital media but also in the case of printed media a nice supplement. \n",
    "\n",
    "In this tutorial I want to show you in a step by step description how to create an animation with matplotlib. In the first part I will focus on the prerequisites, what you need to know about Python and some programming techniques, which are essential to understand the basic concept of the matplotlib animation functions. Persons which have already this knowledge can easily move to [Part II](02-matplotlib-animations.ipynb) of this tutorial."
   ]
  },
  {
   "cell_type": "markdown",
   "metadata": {},
   "source": [
    "## 2. Prerequisites"
   ]
  },
  {
   "cell_type": "markdown",
   "metadata": {},
   "source": [
    "Before we start, I assume, that you have basic knowledge on Python scalar types (integer, floats, boolean, etc.), Python lists, numpy arrays and functions. If not, please inform yourself about these Types and structures, because these are essential for understanding the programming concepts in this tutorial."
   ]
  },
  {
   "cell_type": "markdown",
   "metadata": {},
   "source": [
    "### Namespaces"
   ]
  },
  {
   "cell_type": "markdown",
   "metadata": {},
   "source": [
    "As you already know and used, in Python every \"thing\", a variable, a function,etc. let's call it \"object\" has a name. So, e.g.:"
   ]
  },
  {
   "cell_type": "code",
   "execution_count": 2,
   "metadata": {},
   "outputs": [],
   "source": [
    "def func1():\n",
    "    print('Hello')\n",
    "\n",
    "a = 10"
   ]
  },
  {
   "cell_type": "markdown",
   "metadata": {},
   "source": [
    "In this case we have the name *func1* of defined function and the name *a* for the defined variable. So any object has a name, which Python uses to identify the object. All names in a list build up a so called *namepspace* . So what is important with *namespaces*? Well, in our example *func1* and *a* are in one *namespace*, let's call it *global namespace*. In this *global namespace* we can use these objects, so let's extend the example:"
   ]
  },
  {
   "cell_type": "code",
   "execution_count": 3,
   "metadata": {},
   "outputs": [
    {
     "name": "stdout",
     "output_type": "stream",
     "text": [
      "Hello\n",
      "10\n"
     ]
    }
   ],
   "source": [
    "def func1():\n",
    "    print('Hello')\n",
    "\n",
    "a = 10\n",
    "\n",
    "# call the function\n",
    "func1()    \n",
    "print(a) "
   ]
  },
  {
   "cell_type": "markdown",
   "metadata": {},
   "source": [
    "So we can use the defined objects in the *global namespace*, to call the functions accessing the variables etc. As you know from the lectures inside functions you can define additional variables. The names of all defined objects inside a function belong to a so called *local namespace*:"
   ]
  },
  {
   "cell_type": "code",
   "execution_count": 4,
   "metadata": {},
   "outputs": [
    {
     "name": "stdout",
     "output_type": "stream",
     "text": [
      "Hello 5\n",
      "10\n"
     ]
    }
   ],
   "source": [
    "def func1():\n",
    "    l = 5\n",
    "    print('Hello', l)\n",
    "\n",
    "a = 10\n",
    "\n",
    "# call the function\n",
    "func1()    \n",
    "print(a)"
   ]
  },
  {
   "cell_type": "markdown",
   "metadata": {},
   "source": [
    "Now we have added a variable l inside the function func1 and as expected we can print the content of this variable. But if we call a variable l from outside the function we weill get an error message:"
   ]
  },
  {
   "cell_type": "code",
   "execution_count": 5,
   "metadata": {},
   "outputs": [
    {
     "name": "stdout",
     "output_type": "stream",
     "text": [
      "Hello 5\n",
      "10\n"
     ]
    },
    {
     "ename": "NameError",
     "evalue": "name 'l' is not defined",
     "output_type": "error",
     "traceback": [
      "\u001b[0;31m---------------------------------------------------------------------------\u001b[0m",
      "\u001b[0;31mNameError\u001b[0m                                 Traceback (most recent call last)",
      "\u001b[0;32m<ipython-input-5-995562f5b486>\u001b[0m in \u001b[0;36m<module>\u001b[0;34m\u001b[0m\n\u001b[1;32m      8\u001b[0m \u001b[0mfunc1\u001b[0m\u001b[0;34m(\u001b[0m\u001b[0;34m)\u001b[0m\u001b[0;34m\u001b[0m\u001b[0;34m\u001b[0m\u001b[0m\n\u001b[1;32m      9\u001b[0m \u001b[0mprint\u001b[0m\u001b[0;34m(\u001b[0m\u001b[0ma\u001b[0m\u001b[0;34m)\u001b[0m\u001b[0;34m\u001b[0m\u001b[0;34m\u001b[0m\u001b[0m\n\u001b[0;32m---> 10\u001b[0;31m \u001b[0mprint\u001b[0m\u001b[0;34m(\u001b[0m\u001b[0ml\u001b[0m\u001b[0;34m)\u001b[0m\u001b[0;34m\u001b[0m\u001b[0;34m\u001b[0m\u001b[0m\n\u001b[0m",
      "\u001b[0;31mNameError\u001b[0m: name 'l' is not defined"
     ]
    }
   ],
   "source": [
    "def func1():\n",
    "    l = 5\n",
    "    print('Hello', l)\n",
    "\n",
    "a = 10\n",
    "\n",
    "# call the function\n",
    "func1()    \n",
    "print(a)\n",
    "print(l)"
   ]
  },
  {
   "cell_type": "markdown",
   "metadata": {},
   "source": [
    "The varible l is not defined! This means, l belongs to the *local namespace* of the function func1 and not to the *global namespace*. "
   ]
  }
 ],
 "metadata": {
  "kernelspec": {
   "display_name": "Python 3",
   "language": "python",
   "name": "python3"
  },
  "language_info": {
   "codemirror_mode": {
    "name": "ipython",
    "version": 3
   },
   "file_extension": ".py",
   "mimetype": "text/x-python",
   "name": "python",
   "nbconvert_exporter": "python",
   "pygments_lexer": "ipython3",
   "version": "3.7.3"
  }
 },
 "nbformat": 4,
 "nbformat_minor": 4
}
